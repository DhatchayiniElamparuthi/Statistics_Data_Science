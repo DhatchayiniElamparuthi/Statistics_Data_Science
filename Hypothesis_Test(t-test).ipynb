{
 "cells": [
  {
   "cell_type": "markdown",
   "id": "b8ffe9ea",
   "metadata": {},
   "source": [
    "## Hypothesis Testing"
   ]
  },
  {
   "cell_type": "code",
   "execution_count": 1,
   "id": "bc41b590",
   "metadata": {},
   "outputs": [],
   "source": [
    "#import the libraries\n",
    "import pandas as pd\n",
    "import scipy \n",
    "import numpy as np\n",
    "from scipy import stats"
   ]
  },
  {
   "cell_type": "markdown",
   "id": "413bc049",
   "metadata": {},
   "source": [
    "## t-test"
   ]
  },
  {
   "cell_type": "markdown",
   "id": "d8af2196",
   "metadata": {},
   "source": [
    "#### Ex: Supermarket loyalty program - A supermarket plans to launch a loyalty program if it results in an average spending per shopper of more than 120 dollar per week.A random sample of 80 dollar shoppers enrolled in the pilot program spent an average of 130 dollar in a week with a standard deviation of 40 dollar.Should the loyalty program be launched?"
   ]
  },
  {
   "cell_type": "markdown",
   "id": "5f30d1fb",
   "metadata": {},
   "source": [
    "##### here, H0: μ<=120, H1:μ>120"
   ]
  },
  {
   "cell_type": "code",
   "execution_count": 4,
   "id": "51185a04",
   "metadata": {},
   "outputs": [
    {
     "data": {
      "text/plain": [
       "2.23606797749979"
      ]
     },
     "execution_count": 4,
     "metadata": {},
     "output_type": "execute_result"
    }
   ],
   "source": [
    "#finding t-value using t-test formula\n",
    "(130-120)/(40/np.sqrt(80))"
   ]
  },
  {
   "cell_type": "code",
   "execution_count": 2,
   "id": "a8dc3193",
   "metadata": {},
   "outputs": [
    {
     "data": {
      "text/plain": [
       "0.9860494190014708"
      ]
     },
     "execution_count": 2,
     "metadata": {},
     "output_type": "execute_result"
    }
   ],
   "source": [
    "#finding the probabilty(p-value)\n",
    "stats.t.cdf(2.24, df=79) #2.24 is t-value, df is degrees of freedom= (80-1) = 79"
   ]
  },
  {
   "cell_type": "markdown",
   "id": "9851002f",
   "metadata": {},
   "source": [
    "#### The above probability value is for left side of the mean, in order to get right side of the mean, we have subtract form 1"
   ]
  },
  {
   "cell_type": "code",
   "execution_count": 3,
   "id": "d76f39d5",
   "metadata": {},
   "outputs": [
    {
     "data": {
      "text/plain": [
       "0.013950580998529194"
      ]
     },
     "execution_count": 3,
     "metadata": {},
     "output_type": "execute_result"
    }
   ],
   "source": [
    "1 - stats.t.cdf(2.24, df=79)"
   ]
  },
  {
   "cell_type": "markdown",
   "id": "5edaece8",
   "metadata": {},
   "source": [
    "##### Above p value(0.01) is less than alpha(0.05 by default) value, so reject null hypo. Hence, alternate hypo. is accepted which means average spending is more than 120 dollar. Therefore, the loyalty program will be launched."
   ]
  },
  {
   "cell_type": "markdown",
   "id": "646c6b6c",
   "metadata": {},
   "source": [
    "## 1-sample 2-tail t-test"
   ]
  },
  {
   "cell_type": "markdown",
   "id": "94f00c83",
   "metadata": {},
   "source": [
    "#### Example for 1-sample 2-tail t-test: Process control at a call centre -  Performance of a call center is monitored by the average call duration. Data from 18 months shows that on the days when the process runs normally when μ=4 min, σ= 3 min. Cannot monitor each and every call due to limited resources; so randomly sample 50 calls per day. Consider on day 10, mean cell duration is 4.6. Check whether this day 10 is under control or not\n",
    "\n",
    "##### Here, H0: μ=4, H1:μ!=4 ."
   ]
  },
  {
   "cell_type": "code",
   "execution_count": 5,
   "id": "3e7ea6a2",
   "metadata": {},
   "outputs": [
    {
     "data": {
      "text/plain": [
       "-1.4142135623730943"
      ]
     },
     "execution_count": 5,
     "metadata": {},
     "output_type": "execute_result"
    }
   ],
   "source": [
    "#finding t-value using t-test formula\n",
    "(4-4.6)/(3/np.sqrt(50))"
   ]
  },
  {
   "cell_type": "code",
   "execution_count": 7,
   "id": "3510c12b",
   "metadata": {},
   "outputs": [
    {
     "data": {
      "text/plain": [
       "0.1648559451804547"
      ]
     },
     "execution_count": 7,
     "metadata": {},
     "output_type": "execute_result"
    }
   ],
   "source": [
    "#finding p-value\n",
    "2*stats.t.cdf(-1.41,df=49) "
   ]
  },
  {
   "cell_type": "markdown",
   "id": "44a5c237",
   "metadata": {},
   "source": [
    "##### Above p value(0.16) is more than alpha(0.05 by default) value, so accept H0. Null hypo. means no action required that means on the day 10, the process runs normally. Therefore, process on day 10 is under control.\n"
   ]
  },
  {
   "cell_type": "markdown",
   "id": "337e64ad",
   "metadata": {},
   "source": [
    "## 1-sample 1-tail t-test:"
   ]
  },
  {
   "cell_type": "markdown",
   "id": "47937758",
   "metadata": {},
   "source": [
    "#### Example for 1-sample 1-tail t-test: An outbreak of Salmonella-related illness was attributed to ice cream produced at a certain factory, Scientists measured the level of Salmonella in 9 randomly sampled batches of ice cream. The levels (in MPN/g) were 0.593, 0.142, 0.329, 0,691, 0.231, 0.793, 0.519, 0.392, 0.418.Is there evidence that the mean level of Salmonella in the ice cream is greater than 0.3 MPN/g"
   ]
  },
  {
   "cell_type": "markdown",
   "id": "fa132396",
   "metadata": {},
   "source": [
    "##### Here, H0: μ<=0.3 ,H1:  μ>0.3"
   ]
  },
  {
   "cell_type": "code",
   "execution_count": 8,
   "id": "2b6a7d9b",
   "metadata": {},
   "outputs": [],
   "source": [
    "data=pd.Series([0.593, 0.142, 0.329, 0.691, 0.231, 0.793, 0.519, 0.392, 0.418])"
   ]
  },
  {
   "cell_type": "code",
   "execution_count": 9,
   "id": "ba21a66e",
   "metadata": {},
   "outputs": [],
   "source": [
    "#The below line of code, gives two tail test p value by default, so divide by 2 to get final p-value\n",
    "p=scipy.stats.ttest_1samp(data,0.3)[1] #if [0] is given then t-statistic value will be displayed.\n",
    "p_value= p/2"
   ]
  },
  {
   "cell_type": "code",
   "execution_count": 10,
   "id": "f5798b70",
   "metadata": {},
   "outputs": [
    {
     "data": {
      "text/plain": [
       "0.029265164842448826"
      ]
     },
     "execution_count": 10,
     "metadata": {},
     "output_type": "execute_result"
    }
   ],
   "source": [
    "p_value"
   ]
  },
  {
   "cell_type": "markdown",
   "id": "c06d7f27",
   "metadata": {},
   "source": [
    "##### Above p value(0.02) is less than alpha(0.05 by default) value, so reject H0. Hence, H1 is accepted which means mean level of salmonella is greater than 0.3 MPN/g. So, required actions will be taken against that factory"
   ]
  },
  {
   "cell_type": "markdown",
   "id": "e8f7f017",
   "metadata": {},
   "source": [
    "## 2-sample 2-tail t-test"
   ]
  },
  {
   "cell_type": "markdown",
   "id": "317ebf23",
   "metadata": {},
   "source": [
    "#### Example for 2-sample 2-tail t-test: 6 subjects were given a drug (treatment group) and an additional 6 subjects a placebo (control group). Their reaction time to a stimulus was measured (in ms). We want to perform a two-sample t-test for comparing the means of the treatment and control groups- Control(C) :91, 87, 99, 77, 88, 91 , Treat(T) :101, 110, 103, 93, 99, 104"
   ]
  },
  {
   "cell_type": "markdown",
   "id": "ef2411e1",
   "metadata": {},
   "source": [
    "##### Here, Ho: μT =μc , H1:μT != μC"
   ]
  },
  {
   "cell_type": "code",
   "execution_count": 11,
   "id": "1c97b683",
   "metadata": {},
   "outputs": [],
   "source": [
    "Control=pd.Series([91, 87, 99, 77, 88, 91])\n",
    "Treat =pd.Series([101, 110, 103, 93, 99, 104])  "
   ]
  },
  {
   "cell_type": "code",
   "execution_count": 12,
   "id": "9a58917f",
   "metadata": {},
   "outputs": [
    {
     "data": {
      "text/plain": [
       "Ttest_indResult(statistic=-3.445612673536487, pvalue=0.006272124350809803)"
      ]
     },
     "execution_count": 12,
     "metadata": {},
     "output_type": "execute_result"
    }
   ],
   "source": [
    "stats.ttest_ind( Control,Treat)"
   ]
  },
  {
   "cell_type": "markdown",
   "id": "a349737c",
   "metadata": {},
   "source": [
    "##### Above p value(0.006) is less than alpha(0.05 by default) value, so reject H0. Hence, H1 is accepted which means mean of treatment group and control group is not the same.\n",
    "\n",
    "#### If the above same example,if it is asked like check whether the mean of treatement group is \"greater or lesser\" than mean of control group (or vice-versa) , then it will be 2- sample \"1-tail\" t-test"
   ]
  },
  {
   "cell_type": "code",
   "execution_count": null,
   "id": "4e802c7f",
   "metadata": {},
   "outputs": [],
   "source": []
  }
 ],
 "metadata": {
  "kernelspec": {
   "display_name": "Python 3",
   "language": "python",
   "name": "python3"
  },
  "language_info": {
   "codemirror_mode": {
    "name": "ipython",
    "version": 3
   },
   "file_extension": ".py",
   "mimetype": "text/x-python",
   "name": "python",
   "nbconvert_exporter": "python",
   "pygments_lexer": "ipython3",
   "version": "3.8.8"
  }
 },
 "nbformat": 4,
 "nbformat_minor": 5
}
