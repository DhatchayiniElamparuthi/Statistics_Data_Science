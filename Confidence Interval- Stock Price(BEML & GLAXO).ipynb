{
 "cells": [
  {
   "cell_type": "code",
   "execution_count": 1,
   "id": "0e8a88b2",
   "metadata": {},
   "outputs": [],
   "source": [
    "from scipy import stats\n",
    "import pandas as pd\n",
    "import numpy as np"
   ]
  },
  {
   "cell_type": "code",
   "execution_count": 7,
   "id": "9441d7b5",
   "metadata": {},
   "outputs": [],
   "source": [
    "import warnings\n",
    "warnings.simplefilter('ignore')"
   ]
  },
  {
   "cell_type": "code",
   "execution_count": 8,
   "id": "111c6fec",
   "metadata": {},
   "outputs": [],
   "source": [
    "beml_df = pd.read_csv('beml_df.csv')"
   ]
  },
  {
   "cell_type": "code",
   "execution_count": 9,
   "id": "dec447bb",
   "metadata": {},
   "outputs": [],
   "source": [
    "glaxo_df = pd.read_csv('glaxo_df.csv')"
   ]
  },
  {
   "cell_type": "markdown",
   "id": "5d000bb6",
   "metadata": {},
   "source": [
    "#### Before performing confidence interval for gain column, we have to check whether the \"gain\" is normally distributed in both the beml and glaxo datasets. Hence, we are constructing distplot to know whether it is normally distributed or not\n"
   ]
  },
  {
   "cell_type": "code",
   "execution_count": 10,
   "id": "42d1aff7",
   "metadata": {},
   "outputs": [
    {
     "data": {
      "image/png": "[encoded data removed]",
      "text/plain": [
       "<Figure size 432x288 with 1 Axes>"
      ]
     },
     "metadata": {
      "needs_background": "light"
     },
     "output_type": "display_data"
    }
   ],
   "source": [
    "import matplotlib.pyplot as plt\n",
    "import seaborn as sn\n",
    "%matplotlib inline\n",
    "sn.distplot(beml_df.gain, label='BEML');\n",
    "plt.xlabel('gain');\n",
    "plt.ylabel('density');\n",
    "plt.legend();"
   ]
  },
  {
   "cell_type": "code",
   "execution_count": 11,
   "id": "7e3fe11a",
   "metadata": {},
   "outputs": [
    {
     "data": {
      "image/png": "[encoded data removed]",
      "text/plain": [
       "<Figure size 432x288 with 1 Axes>"
      ]
     },
     "metadata": {
      "needs_background": "light"
     },
     "output_type": "display_data"
    }
   ],
   "source": [
    "sn.distplot(glaxo_df.gain, label='GLAXO');\n",
    "plt.xlabel('gain');\n",
    "plt.ylabel('density');\n",
    "plt.legend();"
   ]
  },
  {
   "cell_type": "markdown",
   "id": "dfbbf1d7",
   "metadata": {},
   "source": [
    "#### From the above distplot, it is observed that the gain is normally ditributed in both the datasets, so now we can carry on with the calculation of confidence interval (if it is not normally distributed then perform z-score standardisation and then calculate the confidence interval)\n"
   ]
  },
  {
   "cell_type": "markdown",
   "id": "4011177e",
   "metadata": {},
   "source": [
    "## Calculating gain interval for BEML and GLAXO respectively for 90% conf. interval"
   ]
  },
  {
   "cell_type": "code",
   "execution_count": 17,
   "id": "0ddd1527",
   "metadata": {},
   "outputs": [
    {
     "name": "stdout",
     "output_type": "stream",
     "text": [
      "Gain at 90% confidence interval is: [-0.0515  0.0521]\n"
     ]
    }
   ],
   "source": [
    "# calculating gain interval for beml at 90% conf. interval\n",
    "beml_df_ci = stats.norm.interval(0.95 , loc=beml_df.gain.mean(), scale=beml_df.gain.std()) #here 0.95 is the critical value for 90% conf. interval\n",
    "print(\"Gain at 90% confidence interval is:\", np.round(beml_df_ci , 4))"
   ]
  },
  {
   "cell_type": "code",
   "execution_count": 18,
   "id": "260fe53b",
   "metadata": {},
   "outputs": [
    {
     "name": "stdout",
     "output_type": "stream",
     "text": [
      "Gain at 90% confidence interval is: [-0.0258  0.0266]\n"
     ]
    }
   ],
   "source": [
    "# calculating gain interval for glaxo at 90% conf. interval\n",
    "glaxo_df_ci = stats.norm.interval(0.95 , loc=glaxo_df.gain.mean(), scale=glaxo_df.gain.std()) #here 0.95 is the critical value for 90% conf. interval\n",
    "print(\"Gain at 90% confidence interval is:\", np.round(glaxo_df_ci , 4))"
   ]
  },
  {
   "cell_type": "markdown",
   "id": "81348bfb",
   "metadata": {},
   "source": [
    "## Calculating gain interval for BEML and GLAXO respectively for 95% conf. interval\n"
   ]
  },
  {
   "cell_type": "code",
   "execution_count": 20,
   "id": "e583910f",
   "metadata": {},
   "outputs": [
    {
     "name": "stdout",
     "output_type": "stream",
     "text": [
      "Gain at 95% confidence interval is: [-0.059   0.0595]\n"
     ]
    }
   ],
   "source": [
    "# calculating gain interval for beml at 95% conf. interval\n",
    "beml_df_ci = stats.norm.interval(0.975 , loc=beml_df.gain.mean(), scale=beml_df.gain.std()) #here 0.975 is the critical value for 95% conf. interval\n",
    "print(\"Gain at 95% confidence interval is:\", np.round(beml_df_ci , 4))"
   ]
  },
  {
   "cell_type": "code",
   "execution_count": 21,
   "id": "2b0ec7df",
   "metadata": {},
   "outputs": [
    {
     "name": "stdout",
     "output_type": "stream",
     "text": [
      "Gain at 95% confidence interval is: [-0.0296  0.0303]\n"
     ]
    }
   ],
   "source": [
    "# calculating gain interval for glaxo at 95% conf. interval\n",
    "glaxo_df_ci = stats.norm.interval(0.975 , loc=glaxo_df.gain.mean(), scale=glaxo_df.gain.std()) #here 0.975 is the critical value for 95% conf. interval\n",
    "print(\"Gain at 95% confidence interval is:\", np.round(glaxo_df_ci , 4))"
   ]
  },
  {
   "cell_type": "markdown",
   "id": "8d43fae7",
   "metadata": {},
   "source": [
    "#### As we can see, that compared to 90% conf. interval, the interval width for 95% conf. interval is more and also the interval value is not precise. So, high confidence  also with the precise interval have to be considered."
   ]
  },
  {
   "cell_type": "markdown",
   "id": "5ee13cac",
   "metadata": {},
   "source": [
    "#### If the std. dev. for the population is not given, then we have to use t-distribution to calculate the interval"
   ]
  },
  {
   "cell_type": "markdown",
   "id": "3426f73c",
   "metadata": {},
   "source": [
    "## Calculating gain interval using t-distribution for 95% conf. interval"
   ]
  },
  {
   "cell_type": "code",
   "execution_count": 22,
   "id": "573c1985",
   "metadata": {},
   "outputs": [
    {
     "name": "stdout",
     "output_type": "stream",
     "text": [
      "Gain at 95% confidence interval using t-distribution is: [-0.059   0.0596]\n"
     ]
    }
   ],
   "source": [
    "#beml data\n",
    "beml_df_ci = stats.t.interval(0.975, df=len(beml_df) - 1, loc=beml_df.gain.mean(), scale=beml_df.gain.std())\n",
    "print(\"Gain at 95% confidence interval using t-distribution is:\" , np.round(beml_df_ci , 4))"
   ]
  },
  {
   "cell_type": "code",
   "execution_count": 24,
   "id": "59904047",
   "metadata": {},
   "outputs": [
    {
     "name": "stdout",
     "output_type": "stream",
     "text": [
      "Gain at 95% confidence interval is: [-0.0296  0.0304]\n"
     ]
    }
   ],
   "source": [
    "#glaxo data\n",
    "glaxo_df_ci = stats.t.interval(0.975 ,df=len(glaxo_df) - 1, loc=glaxo_df.gain.mean(), scale=glaxo_df.gain.std()) \n",
    "print(\"Gain at 95% confidence interval is:\", np.round(glaxo_df_ci , 4))"
   ]
  },
  {
   "cell_type": "markdown",
   "id": "31459cd7",
   "metadata": {},
   "source": [
    "#### It is observed that the gain at 95% confidence interval for BEML data in both  std. normal and t distribution is approximately equal. Similarly, it is obseved for GLAXO data too. This is because, as we increase the degrees of freedom, the t- distribution matches up with the std. normal distribution."
   ]
  },
  {
   "cell_type": "code",
   "execution_count": null,
   "id": "07c2a825",
   "metadata": {},
   "outputs": [],
   "source": []
  }
 ],
 "metadata": {
  "kernelspec": {
   "display_name": "Python 3",
   "language": "python",
   "name": "python3"
  },
  "language_info": {
   "codemirror_mode": {
    "name": "ipython",
    "version": 3
   },
   "file_extension": ".py",
   "mimetype": "text/x-python",
   "name": "python",
   "nbconvert_exporter": "python",
   "pygments_lexer": "ipython3",
   "version": "3.8.8"
  }
 },
 "nbformat": 4,
 "nbformat_minor": 5
}
